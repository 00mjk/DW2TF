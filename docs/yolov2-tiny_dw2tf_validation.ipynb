{
 "cells": [
  {
   "cell_type": "markdown",
   "metadata": {},
   "source": [
    "# Yolo-v2-tiny DW2TF validation"
   ]
  },
  {
   "cell_type": "code",
   "execution_count": 1,
   "metadata": {},
   "outputs": [],
   "source": [
    "import numpy as np\n",
    "import tensorflow as tf\n",
    "\n",
    "# Random input data to test \n",
    "in_data = np.random.randn(64, 416, 416, 3) * 120.56"
   ]
  },
  {
   "cell_type": "markdown",
   "metadata": {},
   "source": [
    "### Output from Darkflow converted Yolo-v2-tiny"
   ]
  },
  {
   "cell_type": "code",
   "execution_count": 2,
   "metadata": {},
   "outputs": [
    {
     "name": "stdout",
     "output_type": "stream",
     "text": [
      "INFO:tensorflow:Restoring parameters from /data/darkflow/yolov2-tiny.ckpt\n"
     ]
    }
   ],
   "source": [
    "tf.reset_default_graph()\n",
    "\n",
    "tf.train.import_meta_graph('/data/darkflow/yolov2-tiny.ckpt.meta')\n",
    "ckpt_path = '/data/darkflow/yolov2-tiny.ckpt'\n",
    "\n",
    "g = tf.get_default_graph()\n",
    "in_t = g.get_tensor_by_name('input:0')\n",
    "out_t = g.get_tensor_by_name('output:0')\n",
    "\n",
    "with tf.Session() as sess:\n",
    "    var_list = {} # dictionary mapping variable name to tensor, used to create saver object to restore\n",
    "    reader = tf.train.NewCheckpointReader(ckpt_path)\n",
    "    for key in reader.get_variable_to_shape_map():\n",
    "        # Look for all variables in ckpt that are used by the graph\n",
    "        try:\n",
    "            tensor = g.get_tensor_by_name(key + \":0\")\n",
    "        except KeyError:\n",
    "            # This tensor doesn't exist in the graph (for example it's\n",
    "            # 'global_step' or a similar housekeeping element) so skip it.\n",
    "            continue\n",
    "        var_list[key] = tensor\n",
    "    saver = tf.train.Saver(var_list=var_list)\n",
    "    saver.restore(sess, ckpt_path)\n",
    "\n",
    "    out_data_darkflow = sess.run(out_t, feed_dict={in_t: in_data})"
   ]
  },
  {
   "cell_type": "markdown",
   "metadata": {},
   "source": [
    "### Output from DW2TF converted Yolo-v2-tiny"
   ]
  },
  {
   "cell_type": "code",
   "execution_count": 3,
   "metadata": {},
   "outputs": [
    {
     "name": "stdout",
     "output_type": "stream",
     "text": [
      "INFO:tensorflow:Restoring parameters from /data/DW2TF/data/yolov2-tiny.ckpt\n"
     ]
    }
   ],
   "source": [
    "tf.reset_default_graph()\n",
    "\n",
    "tf.train.import_meta_graph('/data/DW2TF/data/yolov2-tiny.ckpt.meta')\n",
    "ckpt_path = '/data/DW2TF/data/yolov2-tiny.ckpt'\n",
    "\n",
    "g = tf.get_default_graph()\n",
    "in_t = g.get_tensor_by_name('yolov2-tiny/net1:0')\n",
    "out_t = g.get_tensor_by_name('yolov2-tiny/convolutional9/BiasAdd:0')\n",
    "\n",
    "with tf.Session() as sess:\n",
    "    var_list = {} # dictionary mapping variable name to tensor, used to create saver object to restore\n",
    "    reader = tf.train.NewCheckpointReader(ckpt_path)\n",
    "    for key in reader.get_variable_to_shape_map():\n",
    "        # Look for all variables in ckpt that are used by the graph\n",
    "        try:\n",
    "            tensor = g.get_tensor_by_name(key + \":0\")\n",
    "        except KeyError:\n",
    "            # This tensor doesn't exist in the graph (for example it's\n",
    "            # 'global_step' or a similar housekeeping element) so skip it.\n",
    "            continue\n",
    "        var_list[key] = tensor\n",
    "    saver = tf.train.Saver(var_list=var_list)\n",
    "    saver.restore(sess, ckpt_path)\n",
    "    \n",
    "    out_data_dw2tf = sess.run(out_t, feed_dict={in_t: in_data})"
   ]
  },
  {
   "cell_type": "markdown",
   "metadata": {},
   "source": [
    "### RMS Error"
   ]
  },
  {
   "cell_type": "code",
   "execution_count": 4,
   "metadata": {},
   "outputs": [
    {
     "name": "stdout",
     "output_type": "stream",
     "text": [
      "(64, 13, 13, 425)\n",
      "(64, 13, 13, 425)\n",
      "3.734651923107484e-14\n"
     ]
    }
   ],
   "source": [
    "print(out_data_darkflow.shape)\n",
    "print(out_data_dw2tf.shape)\n",
    "print(np.mean(out_data_darkflow - out_data_dw2tf)**2)"
   ]
  },
  {
   "cell_type": "code",
   "execution_count": 5,
   "metadata": {},
   "outputs": [
    {
     "name": "stdout",
     "output_type": "stream",
     "text": [
      "[-32.597694   13.941672    4.1781635   2.0687065 -85.162506  139.02223\n",
      "  61.937466  125.50001    83.98407    36.48591  ]\n"
     ]
    }
   ],
   "source": [
    "print(out_data_darkflow[0,0,0,:10])"
   ]
  },
  {
   "cell_type": "code",
   "execution_count": 6,
   "metadata": {},
   "outputs": [
    {
     "name": "stdout",
     "output_type": "stream",
     "text": [
      "[-32.59783    13.941475    4.178166    2.0686564 -85.161705  139.0219\n",
      "  61.936897  125.500015   83.98348    36.486507 ]\n"
     ]
    }
   ],
   "source": [
    "print(out_data_dw2tf[0,0,0,:10])"
   ]
  },
  {
   "cell_type": "code",
   "execution_count": null,
   "metadata": {},
   "outputs": [],
   "source": []
  }
 ],
 "metadata": {
  "kernelspec": {
   "display_name": "Python 3",
   "language": "python",
   "name": "python3"
  },
  "language_info": {
   "codemirror_mode": {
    "name": "ipython",
    "version": 3
   },
   "file_extension": ".py",
   "mimetype": "text/x-python",
   "name": "python",
   "nbconvert_exporter": "python",
   "pygments_lexer": "ipython3",
   "version": "3.6.7"
  }
 },
 "nbformat": 4,
 "nbformat_minor": 2
}
